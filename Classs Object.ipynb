{
 "cells": [
  {
   "cell_type": "code",
   "execution_count": 1,
   "id": "19547548",
   "metadata": {},
   "outputs": [],
   "source": [
    "# Class--> Class is collection of a object\n",
    "# Objecet---> Object is instance of class"
   ]
  },
  {
   "cell_type": "code",
   "execution_count": 2,
   "id": "4c375fdd",
   "metadata": {},
   "outputs": [
    {
     "data": {
      "text/plain": [
       "1"
      ]
     },
     "execution_count": 2,
     "metadata": {},
     "output_type": "execute_result"
    }
   ],
   "source": [
    "class Anil():\n",
    "    a=1\n",
    "obj=Anil()\n",
    "obj.a"
   ]
  },
  {
   "cell_type": "code",
   "execution_count": 3,
   "id": "0233cbe4",
   "metadata": {},
   "outputs": [
    {
     "data": {
      "text/plain": [
       "5"
      ]
     },
     "execution_count": 3,
     "metadata": {},
     "output_type": "execute_result"
    }
   ],
   "source": [
    "class Anil():\n",
    "    a=5\n",
    "obj=Anil()\n",
    "obj.a"
   ]
  },
  {
   "cell_type": "code",
   "execution_count": 4,
   "id": "7d25d88d",
   "metadata": {},
   "outputs": [
    {
     "name": "stdout",
     "output_type": "stream",
     "text": [
      "Area of rectangle=  2000\n"
     ]
    }
   ],
   "source": [
    "class rectangle():\n",
    "    length=100\n",
    "    breadth=20\n",
    "obj=rectangle()\n",
    "c=obj.length*obj.breadth\n",
    "print('Area of rectangle= ',c)"
   ]
  },
  {
   "cell_type": "code",
   "execution_count": 5,
   "id": "f54e4c81",
   "metadata": {},
   "outputs": [
    {
     "name": "stdout",
     "output_type": "stream",
     "text": [
      "Area of rectangle =  2000\n"
     ]
    }
   ],
   "source": [
    "class rectangle():\n",
    "    length=100\n",
    "    breadth=20\n",
    "obj=rectangle()\n",
    "c=obj.length*obj.breadth\n",
    "print('Area of rectangle = ',c)"
   ]
  },
  {
   "cell_type": "code",
   "execution_count": 6,
   "id": "bbdcad38",
   "metadata": {},
   "outputs": [
    {
     "name": "stdout",
     "output_type": "stream",
     "text": [
      "Area of reactangle =  2000\n"
     ]
    }
   ],
   "source": [
    "class no():\n",
    "    pass\n",
    "obj=no()\n",
    "obj.length=100\n",
    "obj.breadth=20\n",
    "c=obj.length*obj.breadth\n",
    "print('Area of reactangle = ',c)"
   ]
  },
  {
   "cell_type": "code",
   "execution_count": 7,
   "id": "bf000011",
   "metadata": {},
   "outputs": [
    {
     "name": "stdout",
     "output_type": "stream",
     "text": [
      "area of reactangle=  2000\n"
     ]
    }
   ],
   "source": [
    "class no():\n",
    "    pass \n",
    "obj=no()\n",
    "obj.length=100\n",
    "obj.breadth=20\n",
    "c=obj.length*obj.breadth\n",
    "print('area of reactangle= ',c)"
   ]
  },
  {
   "cell_type": "code",
   "execution_count": 8,
   "id": "7e5893a8",
   "metadata": {},
   "outputs": [
    {
     "ename": "TypeError",
     "evalue": "fun() takes 0 positional arguments but 1 was given",
     "output_type": "error",
     "traceback": [
      "\u001b[1;31m---------------------------------------------------------------------------\u001b[0m",
      "\u001b[1;31mTypeError\u001b[0m                                 Traceback (most recent call last)",
      "\u001b[1;32m<ipython-input-8-f174aeae285a>\u001b[0m in \u001b[0;36m<module>\u001b[1;34m\u001b[0m\n\u001b[0;32m      3\u001b[0m         \u001b[0mprint\u001b[0m\u001b[1;33m(\u001b[0m\u001b[1;34m'iam a function'\u001b[0m\u001b[1;33m)\u001b[0m\u001b[1;33m\u001b[0m\u001b[1;33m\u001b[0m\u001b[0m\n\u001b[0;32m      4\u001b[0m \u001b[0mobj\u001b[0m\u001b[1;33m=\u001b[0m\u001b[0ma\u001b[0m\u001b[1;33m(\u001b[0m\u001b[1;33m)\u001b[0m\u001b[1;33m\u001b[0m\u001b[1;33m\u001b[0m\u001b[0m\n\u001b[1;32m----> 5\u001b[1;33m \u001b[0mobj\u001b[0m\u001b[1;33m.\u001b[0m\u001b[0mfun\u001b[0m\u001b[1;33m(\u001b[0m\u001b[1;33m)\u001b[0m\u001b[1;33m\u001b[0m\u001b[1;33m\u001b[0m\u001b[0m\n\u001b[0m",
      "\u001b[1;31mTypeError\u001b[0m: fun() takes 0 positional arguments but 1 was given"
     ]
    }
   ],
   "source": [
    "class a():\n",
    "    def fun():\n",
    "        print('iam a function')\n",
    "obj=a()\n",
    "obj.fun()"
   ]
  },
  {
   "cell_type": "code",
   "execution_count": 9,
   "id": "6f5d65f1",
   "metadata": {},
   "outputs": [
    {
     "name": "stdout",
     "output_type": "stream",
     "text": [
      "Iam a fuction\n"
     ]
    }
   ],
   "source": [
    "class a():\n",
    "    def fun(self):\n",
    "        print(\"Iam a fuction\")\n",
    "obj=a()\n",
    "obj.fun()"
   ]
  },
  {
   "cell_type": "code",
   "execution_count": 10,
   "id": "7b4089d5",
   "metadata": {},
   "outputs": [
    {
     "name": "stdout",
     "output_type": "stream",
     "text": [
      "Iam a function\n"
     ]
    }
   ],
   "source": [
    "class a():\n",
    "    def fun(a):\n",
    "        print('Iam a function')\n",
    "obj=a()\n",
    "obj.fun()"
   ]
  },
  {
   "cell_type": "code",
   "execution_count": 11,
   "id": "407469b6",
   "metadata": {},
   "outputs": [
    {
     "name": "stdout",
     "output_type": "stream",
     "text": [
      "Area of rectangle= 200\n"
     ]
    }
   ],
   "source": [
    "class Anil():\n",
    "    def fun(self,b,c):\n",
    "        return b*c\n",
    "obj=Anil()\n",
    "print('Area of rectangle=',obj.fun(10,20))"
   ]
  },
  {
   "cell_type": "code",
   "execution_count": 13,
   "id": "cdfd206b",
   "metadata": {},
   "outputs": [
    {
     "name": "stdout",
     "output_type": "stream",
     "text": [
      "Area of =  200\n"
     ]
    }
   ],
   "source": [
    "class Anil():\n",
    "    def fun(self,b,c):\n",
    "        return b*c\n",
    "obj=Anil()\n",
    "print('Area of = ',obj.fun(10,20))"
   ]
  },
  {
   "cell_type": "code",
   "execution_count": 14,
   "id": "a53d9473",
   "metadata": {},
   "outputs": [
    {
     "name": "stdout",
     "output_type": "stream",
     "text": [
      "Area of rectangel=  200\n"
     ]
    }
   ],
   "source": [
    "class Anil():\n",
    "    def fun(a):\n",
    "        return a.length*a.breadth\n",
    "obj=Anil()\n",
    "obj.length=10\n",
    "obj.breadth=20\n",
    "print('Area of rectangel= ',obj.fun())"
   ]
  },
  {
   "cell_type": "code",
   "execution_count": 15,
   "id": "c296a181",
   "metadata": {},
   "outputs": [
    {
     "name": "stdout",
     "output_type": "stream",
     "text": [
      "Area of rec =  200\n"
     ]
    }
   ],
   "source": [
    "class Anil():\n",
    "    def fun(a):\n",
    "        return a.length*a.breadth\n",
    "obj=Anil()\n",
    "obj.length=10\n",
    "obj.breadth=20\n",
    "print('Area of rec = ',obj.fun())"
   ]
  },
  {
   "cell_type": "code",
   "execution_count": 16,
   "id": "0ea2d83e",
   "metadata": {},
   "outputs": [],
   "source": [
    "## Constructors"
   ]
  },
  {
   "cell_type": "code",
   "execution_count": null,
   "id": "d790c2bf",
   "metadata": {},
   "outputs": [],
   "source": [
    "# Implicit constructor"
   ]
  },
  {
   "cell_type": "code",
   "execution_count": 17,
   "id": "eb4ace23",
   "metadata": {},
   "outputs": [
    {
     "name": "stdout",
     "output_type": "stream",
     "text": [
      "Iam a implicit constructor\n"
     ]
    }
   ],
   "source": [
    "class Anil():\n",
    "    def __init__ (a):\n",
    "        print('Iam a implicit constructor')\n",
    "obj=Anil()"
   ]
  },
  {
   "cell_type": "code",
   "execution_count": 18,
   "id": "291f3200",
   "metadata": {},
   "outputs": [
    {
     "name": "stdout",
     "output_type": "stream",
     "text": [
      "Iam Implicit constructor\n"
     ]
    }
   ],
   "source": [
    "class Anil():\n",
    "    def __init__(a):\n",
    "        print(\"Iam Implicit constructor\")\n",
    "obj=Anil()"
   ]
  },
  {
   "cell_type": "code",
   "execution_count": 29,
   "id": "c1cf4a15",
   "metadata": {},
   "outputs": [],
   "source": [
    "## Explicit constructor"
   ]
  },
  {
   "cell_type": "code",
   "execution_count": 20,
   "id": "f7380c2d",
   "metadata": {},
   "outputs": [
    {
     "name": "stdout",
     "output_type": "stream",
     "text": [
      "Anil\n",
      "24\n"
     ]
    }
   ],
   "source": [
    "class Anil():\n",
    "    def __init__(s,name,age):\n",
    "        s.a = name\n",
    "        s.b= age\n",
    "        print(s.a)\n",
    "        print(s.b)\n",
    "obj=Anil('Anil',24)"
   ]
  },
  {
   "cell_type": "code",
   "execution_count": 24,
   "id": "28927934",
   "metadata": {},
   "outputs": [
    {
     "name": "stdout",
     "output_type": "stream",
     "text": [
      "Anil\n",
      "24\n"
     ]
    }
   ],
   "source": [
    "class Anil():\n",
    "    def __init__(self,name,age):\n",
    "        self.a=name\n",
    "        self.b=age\n",
    "        print(self.a)\n",
    "        print(self.b)\n",
    "obj=Anil('Anil',24)"
   ]
  },
  {
   "cell_type": "code",
   "execution_count": 25,
   "id": "39118ba6",
   "metadata": {},
   "outputs": [
    {
     "name": "stdout",
     "output_type": "stream",
     "text": [
      "Anil\n",
      "24\n"
     ]
    }
   ],
   "source": [
    "class Anil():\n",
    "    def __init__(self,name,age):\n",
    "        self.a=name\n",
    "        self.b=age\n",
    "        print(self.a)\n",
    "        print(self.b)\n",
    "obj=Anil('Anil',24)"
   ]
  },
  {
   "cell_type": "markdown",
   "id": "ee151efc",
   "metadata": {},
   "source": [
    "## Inheritance"
   ]
  },
  {
   "cell_type": "code",
   "execution_count": 28,
   "id": "067f855d",
   "metadata": {},
   "outputs": [],
   "source": [
    "# single inheritance"
   ]
  },
  {
   "cell_type": "code",
   "execution_count": 26,
   "id": "d955e1f4",
   "metadata": {},
   "outputs": [
    {
     "name": "stdout",
     "output_type": "stream",
     "text": [
      "iam a child\n",
      "iam a parent\n"
     ]
    }
   ],
   "source": [
    "class parent():\n",
    "    def fun(a):\n",
    "        print(\"iam a parent\")\n",
    "class child(parent):\n",
    "    def rev(a):\n",
    "        print(\"iam a child\")\n",
    "child_obj=child()\n",
    "child_obj.rev()\n",
    "child_obj.fun()"
   ]
  },
  {
   "cell_type": "code",
   "execution_count": 27,
   "id": "aab2421c",
   "metadata": {},
   "outputs": [
    {
     "name": "stdout",
     "output_type": "stream",
     "text": [
      "Iam a child\n",
      "Iam a parent\n"
     ]
    }
   ],
   "source": [
    "class parent():\n",
    "    def fun(a):\n",
    "        print(\"Iam a parent\")\n",
    "class child(parent):\n",
    "    def rev(a):\n",
    "        print('Iam a child')\n",
    "child_obj=child()\n",
    "child_obj.rev()\n",
    "child_obj.fun()"
   ]
  },
  {
   "cell_type": "code",
   "execution_count": 1,
   "id": "98ef57cc",
   "metadata": {},
   "outputs": [
    {
     "data": {
      "text/plain": [
       "1"
      ]
     },
     "execution_count": 1,
     "metadata": {},
     "output_type": "execute_result"
    }
   ],
   "source": [
    "class Anil():\n",
    "    a=1\n",
    "obj=Anil()\n",
    "obj.a"
   ]
  },
  {
   "cell_type": "code",
   "execution_count": 3,
   "id": "6d14603e",
   "metadata": {},
   "outputs": [
    {
     "name": "stdout",
     "output_type": "stream",
     "text": [
      "area of rect=  2000\n"
     ]
    }
   ],
   "source": [
    "class rectangle():\n",
    "    length=100\n",
    "    breadth=20\n",
    "obj=rectangle()\n",
    "c=obj.length*obj.breadth\n",
    "print(\"area of rect= \",c)"
   ]
  },
  {
   "cell_type": "code",
   "execution_count": 4,
   "id": "1c462ba7",
   "metadata": {},
   "outputs": [
    {
     "name": "stdout",
     "output_type": "stream",
     "text": [
      "Area of rec =  2000\n"
     ]
    }
   ],
   "source": [
    "class no():\n",
    "    pass \n",
    "obj=no()\n",
    "obj.length=100\n",
    "obj.breadth=20\n",
    "c=obj.length*obj.breadth\n",
    "print('Area of rec = ',c)"
   ]
  },
  {
   "cell_type": "code",
   "execution_count": 5,
   "id": "d1074f40",
   "metadata": {},
   "outputs": [
    {
     "name": "stdout",
     "output_type": "stream",
     "text": [
      "iam a function\n"
     ]
    }
   ],
   "source": [
    "class b():\n",
    "    def fun(a):\n",
    "        print('iam a function')\n",
    "obj=b()\n",
    "obj.fun()"
   ]
  },
  {
   "cell_type": "code",
   "execution_count": 6,
   "id": "499108cd",
   "metadata": {},
   "outputs": [
    {
     "name": "stdout",
     "output_type": "stream",
     "text": [
      "Area of rec=  200\n"
     ]
    }
   ],
   "source": [
    "class Anil():\n",
    "    def fun(self,b,c):\n",
    "        return b*c\n",
    "obj=Anil()\n",
    "print('Area of rec= ',obj.fun(10,20))"
   ]
  },
  {
   "cell_type": "code",
   "execution_count": 7,
   "id": "c7e3e35f",
   "metadata": {},
   "outputs": [
    {
     "name": "stdout",
     "output_type": "stream",
     "text": [
      "Area of rec =  200\n"
     ]
    }
   ],
   "source": [
    "class Anil():\n",
    "    def fun(self,b,c):\n",
    "        return b*c\n",
    "obj=Anil()\n",
    "print('Area of rec = ',obj.fun(10,20))"
   ]
  },
  {
   "cell_type": "code",
   "execution_count": 8,
   "id": "b3aceca1",
   "metadata": {},
   "outputs": [
    {
     "name": "stdout",
     "output_type": "stream",
     "text": [
      "Area of rect=  2000\n"
     ]
    }
   ],
   "source": [
    "class Anil():\n",
    "    def fun(a):\n",
    "        return a.length*a.breadth\n",
    "obj=Anil()\n",
    "obj.length=100\n",
    "obj.breadth=20\n",
    "print('Area of rect= ',obj.fun())"
   ]
  },
  {
   "cell_type": "code",
   "execution_count": 10,
   "id": "2dbdf22c",
   "metadata": {},
   "outputs": [
    {
     "name": "stdout",
     "output_type": "stream",
     "text": [
      "Iam a Implicit constructor\n"
     ]
    }
   ],
   "source": [
    "class Anil():\n",
    "    def __init__(a):\n",
    "        print(\"Iam a Implicit constructor\")\n",
    "obj=Anil()"
   ]
  },
  {
   "cell_type": "code",
   "execution_count": 13,
   "id": "613129a6",
   "metadata": {},
   "outputs": [
    {
     "name": "stdout",
     "output_type": "stream",
     "text": [
      "Iam a implicit constructor\n"
     ]
    }
   ],
   "source": [
    "class Anil():\n",
    "    def __init__(a):\n",
    "        print('Iam a implicit constructor')\n",
    "obj=Anil()"
   ]
  },
  {
   "cell_type": "code",
   "execution_count": 14,
   "id": "de841a25",
   "metadata": {},
   "outputs": [
    {
     "name": "stdout",
     "output_type": "stream",
     "text": [
      "Anil\n",
      "24\n"
     ]
    }
   ],
   "source": [
    "class Anil():\n",
    "    def __init__(s,name,age):\n",
    "        s.a=name\n",
    "        s.b=age\n",
    "        print(s.a)\n",
    "        print(s.b)\n",
    "obj=Anil('Anil',24)"
   ]
  },
  {
   "cell_type": "code",
   "execution_count": 15,
   "id": "8e772b44",
   "metadata": {},
   "outputs": [
    {
     "name": "stdout",
     "output_type": "stream",
     "text": [
      "Anil\n",
      "24\n"
     ]
    }
   ],
   "source": [
    "class Anil():\n",
    "    def __init__(self,name,age):\n",
    "        self.a=name\n",
    "        self.b=age\n",
    "        print(self.a)\n",
    "        print(self.b)\n",
    "obj=Anil('Anil',24)"
   ]
  },
  {
   "cell_type": "code",
   "execution_count": 16,
   "id": "75895ece",
   "metadata": {},
   "outputs": [
    {
     "name": "stdout",
     "output_type": "stream",
     "text": [
      "Iam child class\n",
      "Iam a parent class\n"
     ]
    }
   ],
   "source": [
    "class parent():\n",
    "    def fun(a):\n",
    "        print('Iam a parent class')\n",
    "class child(parent):\n",
    "    def rev(s):\n",
    "        print('Iam child class')\n",
    "child_obj=child()\n",
    "child_obj.rev()\n",
    "child_obj.fun()"
   ]
  },
  {
   "cell_type": "code",
   "execution_count": 17,
   "id": "6674b90f",
   "metadata": {},
   "outputs": [
    {
     "name": "stdout",
     "output_type": "stream",
     "text": [
      "Iam a child\n",
      "Iam a parent\n"
     ]
    }
   ],
   "source": [
    "class parent():\n",
    "    def fun(a):\n",
    "        print('Iam a parent')\n",
    "class child(parent):\n",
    "    def rev(a):\n",
    "        print('Iam a child')\n",
    "child_obj=child()\n",
    "child_obj.rev()\n",
    "child_obj.fun()"
   ]
  },
  {
   "cell_type": "code",
   "execution_count": 1,
   "id": "3164b2b0",
   "metadata": {},
   "outputs": [
    {
     "name": "stdout",
     "output_type": "stream",
     "text": [
      "Iam child class\n",
      "Iam first parent class\n",
      "Iam second parent class\n"
     ]
    }
   ],
   "source": [
    "## Multiple inheritance\n",
    "class parent1():\n",
    "    def fun(self):\n",
    "        print('Iam first parent class')\n",
    "class parent2():\n",
    "    def fun2(self):\n",
    "        print('Iam second parent class')\n",
    "class child(parent2,parent1):\n",
    "    def rev(self):\n",
    "        print('Iam child class')\n",
    "child_obj=child()\n",
    "child_obj.rev()\n",
    "child_obj.fun()\n",
    "child_obj.fun2()"
   ]
  },
  {
   "cell_type": "code",
   "execution_count": 2,
   "id": "bb943eb7",
   "metadata": {},
   "outputs": [
    {
     "name": "stdout",
     "output_type": "stream",
     "text": [
      "Iam a child\n",
      "Iam a first parent\n",
      "Iam second parent\n"
     ]
    }
   ],
   "source": [
    "class parent1():\n",
    "    def fun(s):\n",
    "        print('Iam a first parent')\n",
    "class parent2():\n",
    "    def fun2(s):\n",
    "        print('Iam second parent')\n",
    "class child(parent2,parent1):\n",
    "    def ani(s):\n",
    "        print('Iam a child')\n",
    "child_obj=child()\n",
    "child_obj.ani()\n",
    "child_obj.fun()\n",
    "child_obj.fun2()"
   ]
  },
  {
   "cell_type": "code",
   "execution_count": 3,
   "id": "144c68c1",
   "metadata": {},
   "outputs": [
    {
     "name": "stdout",
     "output_type": "stream",
     "text": [
      "iam second child\n",
      "iam first child\n",
      "iam first child\n",
      "Iam parent\n"
     ]
    }
   ],
   "source": [
    "class parent():\n",
    "    def fun2(s):\n",
    "        print('Iam parent')\n",
    "class child1(parent):\n",
    "    def rev(s):\n",
    "        print('iam first child')\n",
    "class child2(child1):\n",
    "    def child2(s):\n",
    "        print('iam second child')\n",
    "child_2=child2()\n",
    "child_1=child1()\n",
    "\n",
    "child_2.child2()\n",
    "child_2.rev()\n",
    "\n",
    "child_1.rev()\n",
    "child_2.fun2()\n"
   ]
  },
  {
   "cell_type": "code",
   "execution_count": 6,
   "id": "f3e51ce1",
   "metadata": {},
   "outputs": [
    {
     "name": "stdout",
     "output_type": "stream",
     "text": [
      "iam second child\n",
      "iam a parent\n",
      "iam a first child\n",
      "iam a parent\n"
     ]
    }
   ],
   "source": [
    "class parent():\n",
    "    def fun2(s):\n",
    "        print('iam a parent')\n",
    "class child1(parent):\n",
    "    def rev (s):\n",
    "        print('iam a first child')\n",
    "class child2(parent):\n",
    "    def child2(s):\n",
    "        print('iam second child')\n",
    "child_2=child2()\n",
    "child_1=child1()\n",
    "\n",
    "child_2.child2()\n",
    "child_2.fun2()\n",
    "\n",
    "child_1.rev()\n",
    "child_1.fun2()"
   ]
  },
  {
   "cell_type": "code",
   "execution_count": 8,
   "id": "05b908a0",
   "metadata": {},
   "outputs": [
    {
     "name": "stdout",
     "output_type": "stream",
     "text": [
      "iam a third child\n",
      "iam a second child\n",
      "Iam first child \n",
      "iam a main parent class \n",
      "iam a second child\n",
      "iam a main parent class \n",
      "Iam first child \n",
      "iam a main parent class \n"
     ]
    }
   ],
   "source": [
    "class parent():\n",
    "    def fun2(s):\n",
    "        print('iam a main parent class ')\n",
    "class child1(parent):\n",
    "    def child1(s):\n",
    "        print('Iam first child ')\n",
    "class child2(parent):\n",
    "    def child2(s):\n",
    "        print('iam a second child')\n",
    "class child3(child2,child1):\n",
    "    def child3(s):\n",
    "        print('iam a third child')\n",
    "child_2=child2()\n",
    "child_1=child1()\n",
    "child_3=child3()\n",
    "\n",
    "child_3.child3()\n",
    "child_3.child2()\n",
    "child_3.child1()\n",
    "child_3.fun2()\n",
    "\n",
    "child_2.child2()\n",
    "child_2.fun2()\n",
    "\n",
    "child_1.child1()\n",
    "child_1.fun2()"
   ]
  },
  {
   "cell_type": "markdown",
   "id": "55169d69",
   "metadata": {},
   "source": [
    "## Polymorphisam"
   ]
  },
  {
   "cell_type": "raw",
   "id": "3515d84c",
   "metadata": {},
   "source": [
    "1. method of overriding\n",
    "2. method of over loading"
   ]
  },
  {
   "cell_type": "code",
   "execution_count": 9,
   "id": "1c710614",
   "metadata": {},
   "outputs": [
    {
     "name": "stdout",
     "output_type": "stream",
     "text": [
      "second method\n"
     ]
    }
   ],
   "source": [
    "def fun():\n",
    "    print('First method')\n",
    "def fun():\n",
    "    print('second method')\n",
    "fun()"
   ]
  },
  {
   "cell_type": "code",
   "execution_count": 12,
   "id": "d26cf819",
   "metadata": {},
   "outputs": [
    {
     "name": "stdout",
     "output_type": "stream",
     "text": [
      "i dont have laptop\n",
      "i dont have mobile\n"
     ]
    }
   ],
   "source": [
    "class parent():\n",
    "    def laptop(s):\n",
    "        print('My laptop is hp')\n",
    "    def mobile(s):\n",
    "            print('My mobile is apple')\n",
    "class child(parent):\n",
    "    def laptop(s):\n",
    "        print('i dont have laptop')\n",
    "    def mobile(s):\n",
    "            print('i dont have mobile')\n",
    "child_obj=child()\n",
    "child_obj.laptop()\n",
    "child_obj.mobile()"
   ]
  },
  {
   "cell_type": "code",
   "execution_count": 18,
   "id": "1333000f",
   "metadata": {},
   "outputs": [
    {
     "data": {
      "text/plain": [
       "120"
      ]
     },
     "execution_count": 18,
     "metadata": {},
     "output_type": "execute_result"
    }
   ],
   "source": [
    "def product (a,b):\n",
    "    p=a*b\n",
    "    print(p)\n",
    "def product(a,b,c):\n",
    "    p=a*b*c\n",
    "    return p\n",
    "product(4,5,6)"
   ]
  },
  {
   "cell_type": "code",
   "execution_count": 23,
   "id": "0aca292e",
   "metadata": {},
   "outputs": [
    {
     "name": "stdout",
     "output_type": "stream",
     "text": [
      "Nothing to find\n",
      "Area of rectangle= 400\n",
      "Area of rectangle=  100\n"
     ]
    }
   ],
   "source": [
    "class Area:\n",
    "    def find_area(s,a=None,b=None):\n",
    "        if a!=None and b!=None:\n",
    "            print('Area of rectangle=',(a*b))\n",
    "        elif a!=None:\n",
    "            print('Area of rectangle= ',(a*a))\n",
    "        else:\n",
    "            print('Nothing to find')\n",
    "obj=Area()\n",
    "obj.find_area()\n",
    "obj.find_area(10,40)\n",
    "obj.find_area(10)"
   ]
  },
  {
   "cell_type": "markdown",
   "id": "1ab4df26",
   "metadata": {},
   "source": [
    "## Abstraction"
   ]
  },
  {
   "cell_type": "code",
   "execution_count": 25,
   "id": "c981baaf",
   "metadata": {},
   "outputs": [
    {
     "name": "stdout",
     "output_type": "stream",
     "text": [
      "The milage is 30 kmph\n"
     ]
    }
   ],
   "source": [
    "from abc import ABC,abstractmethod\n",
    "class car(ABC):\n",
    "    def milage(s):\n",
    "        pass\n",
    "class child(car):\n",
    "    def milage(s):\n",
    "        print('The milage is 30 kmph')\n",
    "obj=child()\n",
    "obj.milage()"
   ]
  },
  {
   "cell_type": "code",
   "execution_count": null,
   "id": "ca366249",
   "metadata": {},
   "outputs": [],
   "source": []
  }
 ],
 "metadata": {
  "kernelspec": {
   "display_name": "Python 3",
   "language": "python",
   "name": "python3"
  },
  "language_info": {
   "codemirror_mode": {
    "name": "ipython",
    "version": 3
   },
   "file_extension": ".py",
   "mimetype": "text/x-python",
   "name": "python",
   "nbconvert_exporter": "python",
   "pygments_lexer": "ipython3",
   "version": "3.8.8"
  }
 },
 "nbformat": 4,
 "nbformat_minor": 5
}
