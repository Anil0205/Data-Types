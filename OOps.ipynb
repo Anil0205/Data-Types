{
 "cells": [
  {
   "cell_type": "code",
   "execution_count": 1,
   "id": "aeb245fc",
   "metadata": {},
   "outputs": [
    {
     "data": {
      "text/plain": [
       "5"
      ]
     },
     "execution_count": 1,
     "metadata": {},
     "output_type": "execute_result"
    }
   ],
   "source": [
    "class Anil():\n",
    "    a=5\n",
    "obj=Anil()\n",
    "obj.a"
   ]
  },
  {
   "cell_type": "code",
   "execution_count": 2,
   "id": "aeb1154f",
   "metadata": {},
   "outputs": [
    {
     "name": "stdout",
     "output_type": "stream",
     "text": [
      "Area of rectangle= 2000\n"
     ]
    }
   ],
   "source": [
    "class rectangle():\n",
    "    length=100\n",
    "    breadth=20\n",
    "obj=rectangle\n",
    "c=obj.length*obj.breadth\n",
    "print('Area of rectangle=',c)"
   ]
  },
  {
   "cell_type": "code",
   "execution_count": 3,
   "id": "3362de32",
   "metadata": {},
   "outputs": [
    {
     "name": "stdout",
     "output_type": "stream",
     "text": [
      "Area rect= 2000\n"
     ]
    }
   ],
   "source": [
    "class no():\n",
    "    pass\n",
    "obj=no()\n",
    "obj.length=100\n",
    "obj.breadth=20\n",
    "c=obj.length*obj.breadth\n",
    "print('Area rect=',c)"
   ]
  },
  {
   "cell_type": "code",
   "execution_count": 7,
   "id": "2edff0a2",
   "metadata": {},
   "outputs": [
    {
     "name": "stdout",
     "output_type": "stream",
     "text": [
      "iam a function\n"
     ]
    }
   ],
   "source": [
    "class k():\n",
    "    def fun(self):\n",
    "        print('iam a function')\n",
    "obj=k()\n",
    "obj.fun()"
   ]
  },
  {
   "cell_type": "code",
   "execution_count": 8,
   "id": "44dfa613",
   "metadata": {},
   "outputs": [
    {
     "name": "stdout",
     "output_type": "stream",
     "text": [
      "Iam a function\n"
     ]
    }
   ],
   "source": [
    "class k():\n",
    "    def fun(a):\n",
    "        print('Iam a function')\n",
    "obj=k()\n",
    "obj.fun()"
   ]
  },
  {
   "cell_type": "code",
   "execution_count": 9,
   "id": "96d5e616",
   "metadata": {},
   "outputs": [
    {
     "name": "stdout",
     "output_type": "stream",
     "text": [
      "area of= 200\n"
     ]
    }
   ],
   "source": [
    "class Anil():\n",
    "    def fun(s,b,c):\n",
    "        return b*c\n",
    "obj=Anil()\n",
    "print(\"area of=\",obj.fun(10,20))"
   ]
  },
  {
   "cell_type": "code",
   "execution_count": 10,
   "id": "de552157",
   "metadata": {},
   "outputs": [
    {
     "name": "stdout",
     "output_type": "stream",
     "text": [
      "Addition= 34\n"
     ]
    }
   ],
   "source": [
    "class Anil():\n",
    "    def fun(s,b,c):\n",
    "        return b+c\n",
    "obj=Anil()\n",
    "print(\"Addition=\",obj.fun(11,23))"
   ]
  },
  {
   "cell_type": "code",
   "execution_count": 13,
   "id": "8af2e4f4",
   "metadata": {},
   "outputs": [
    {
     "name": "stdout",
     "output_type": "stream",
     "text": [
      "Area of rec= 2000\n"
     ]
    }
   ],
   "source": [
    "class Anil():\n",
    "    def fun(s):\n",
    "        return s.length*s.breadth\n",
    "obj=Anil()\n",
    "obj.length=100\n",
    "obj.breadth=20\n",
    "print('Area of rec=',obj.fun())"
   ]
  },
  {
   "cell_type": "code",
   "execution_count": 14,
   "id": "6ac6f135",
   "metadata": {},
   "outputs": [
    {
     "name": "stdout",
     "output_type": "stream",
     "text": [
      "Iam an implicit constructor\n"
     ]
    }
   ],
   "source": [
    "class Anil():\n",
    "    def __init__ (self):\n",
    "        print('Iam an implicit constructor')\n",
    "obj=Anil()"
   ]
  },
  {
   "cell_type": "code",
   "execution_count": 18,
   "id": "a469db46",
   "metadata": {},
   "outputs": [
    {
     "name": "stdout",
     "output_type": "stream",
     "text": [
      "Anil\n",
      "24\n"
     ]
    }
   ],
   "source": [
    "class Anil():\n",
    "    def __init__(self,name,age):\n",
    "        self.a=name\n",
    "        self.b=age\n",
    "        print(self.a)\n",
    "        print(self.b)\n",
    "obj=Anil('Anil',24)"
   ]
  },
  {
   "cell_type": "code",
   "execution_count": 21,
   "id": "d00051a8",
   "metadata": {},
   "outputs": [
    {
     "name": "stdout",
     "output_type": "stream",
     "text": [
      "iam son\n",
      "Iam father\n"
     ]
    }
   ],
   "source": [
    "# single Inheritance\n",
    "class parent():\n",
    "    def fun(self):\n",
    "        print('Iam father')\n",
    "class child(parent):\n",
    "    def fun1(self):\n",
    "        print('iam son')\n",
    "obj=child()\n",
    "obj.fun1()\n",
    "obj.fun()"
   ]
  },
  {
   "cell_type": "code",
   "execution_count": null,
   "id": "35600737",
   "metadata": {},
   "outputs": [],
   "source": [
    "class father():\n",
    "    def fun(s):\n",
    "        print('i"
   ]
  },
  {
   "cell_type": "code",
   "execution_count": 30,
   "id": "8dab2650",
   "metadata": {},
   "outputs": [
    {
     "name": "stdout",
     "output_type": "stream",
     "text": [
      "ima son\n",
      "Iam mother\n",
      "iam father\n"
     ]
    }
   ],
   "source": [
    "class father():\n",
    "    def fun(s):\n",
    "        print('iam father')\n",
    "class mother():\n",
    "    def fun1(s):\n",
    "        print('Iam mother')\n",
    "class child(father,mother):\n",
    "    def fun2(s):\n",
    "        print('ima son')\n",
    "obj=child()\n",
    "obj.fun2()\n",
    "obj.fun1()\n",
    "obj.fun()"
   ]
  },
  {
   "cell_type": "code",
   "execution_count": 32,
   "id": "bae7fb0d",
   "metadata": {},
   "outputs": [
    {
     "name": "stdout",
     "output_type": "stream",
     "text": [
      "Iam maha\n",
      "iam anil\n",
      "iam father\n"
     ]
    }
   ],
   "source": [
    "class father():\n",
    "    def fun(s):\n",
    "        print('iam father')\n",
    "class anil(father):\n",
    "    def fun1(s):\n",
    "        print('iam anil')\n",
    "class maha(anil):\n",
    "    def fun2(s):\n",
    "        print('Iam maha')\n",
    "obj=maha()\n",
    "obj.fun2()\n",
    "obj.fun1()\n",
    "obj.fun()"
   ]
  },
  {
   "cell_type": "code",
   "execution_count": 33,
   "id": "94e887c7",
   "metadata": {},
   "outputs": [
    {
     "name": "stdout",
     "output_type": "stream",
     "text": [
      "iam tejuu\n",
      "iam maha\n",
      "iam anil\n",
      "Iam father\n"
     ]
    }
   ],
   "source": [
    "class father():\n",
    "    def fun(s):\n",
    "        print('Iam father')\n",
    "class anil(father):\n",
    "    def fun1(s):\n",
    "        print('iam anil')\n",
    "class maha(anil):\n",
    "    def fun2(s):\n",
    "        print('iam maha')\n",
    "class teju(maha):\n",
    "    def fun3(s):\n",
    "        print('iam tejuu')\n",
    "obj=teju()\n",
    "obj.fun3()\n",
    "obj.fun2()\n",
    "obj.fun1()\n",
    "obj.fun()"
   ]
  },
  {
   "cell_type": "code",
   "execution_count": null,
   "id": "9b07bd29",
   "metadata": {},
   "outputs": [],
   "source": []
  }
 ],
 "metadata": {
  "kernelspec": {
   "display_name": "Python 3",
   "language": "python",
   "name": "python3"
  },
  "language_info": {
   "codemirror_mode": {
    "name": "ipython",
    "version": 3
   },
   "file_extension": ".py",
   "mimetype": "text/x-python",
   "name": "python",
   "nbconvert_exporter": "python",
   "pygments_lexer": "ipython3",
   "version": "3.8.8"
  }
 },
 "nbformat": 4,
 "nbformat_minor": 5
}
