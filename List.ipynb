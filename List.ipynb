{
 "cells": [
  {
   "cell_type": "code",
   "execution_count": 1,
   "id": "2d2d78e3",
   "metadata": {},
   "outputs": [
    {
     "name": "stdout",
     "output_type": "stream",
     "text": [
      "1\n"
     ]
    }
   ],
   "source": [
    "a=1\n",
    "print(a)"
   ]
  },
  {
   "cell_type": "code",
   "execution_count": 2,
   "id": "073cba79",
   "metadata": {},
   "outputs": [
    {
     "name": "stdout",
     "output_type": "stream",
     "text": [
      "(1, 2, 3, 4, 5)\n",
      "\n",
      "<class 'tuple'>\n"
     ]
    }
   ],
   "source": [
    "a=1,2,3,4,5\n",
    "print(a)\n",
    "print()\n",
    "print(type(a))\n"
   ]
  },
  {
   "cell_type": "code",
   "execution_count": 4,
   "id": "a2679486",
   "metadata": {},
   "outputs": [
    {
     "name": "stdout",
     "output_type": "stream",
     "text": [
      "[10]\n",
      "\n",
      "<class 'list'>\n"
     ]
    }
   ],
   "source": [
    "a=[10]\n",
    "print(a)\n",
    "print()\n",
    "print(type(a))"
   ]
  },
  {
   "cell_type": "code",
   "execution_count": 6,
   "id": "059f4b77",
   "metadata": {},
   "outputs": [
    {
     "name": "stdout",
     "output_type": "stream",
     "text": [
      "[10, 12.2, 'Anil']\n"
     ]
    }
   ],
   "source": [
    "a=[10, 12.2, 'Anil']\n",
    "print(a)\n"
   ]
  },
  {
   "cell_type": "markdown",
   "id": "169fe943",
   "metadata": {},
   "source": [
    "## "
   ]
  },
  {
   "cell_type": "code",
   "execution_count": 9,
   "id": "d799dc96",
   "metadata": {},
   "outputs": [
    {
     "name": "stdout",
     "output_type": "stream",
     "text": [
      "[10, 12.2, 'Anil']\n",
      "Caliing the value 10 =  10\n",
      "\n",
      "calling the value  12.2 =  12.2\n",
      "\n",
      "Calling the value some string =  Anil\n"
     ]
    }
   ],
   "source": [
    "a=[10, 12.2, 'Anil']\n",
    "print(a)\n",
    "print(\"Caliing the value 10 = \",a[0])\n",
    "print()\n",
    "print(\"calling the value  12.2 = \",a[1])\n",
    "print()\n",
    "print(\"Calling the value some string = \",a[2])\n"
   ]
  },
  {
   "cell_type": "code",
   "execution_count": 11,
   "id": "dac21ffb",
   "metadata": {},
   "outputs": [
    {
     "name": "stdout",
     "output_type": "stream",
     "text": [
      "4\n",
      "\n",
      "2\n"
     ]
    }
   ],
   "source": [
    "a=[4,9,6,2]\n",
    "print(a[0])\n",
    "print()\n",
    "print(a[3])"
   ]
  },
  {
   "cell_type": "code",
   "execution_count": 13,
   "id": "6b615ba4",
   "metadata": {},
   "outputs": [
    {
     "name": "stdout",
     "output_type": "stream",
     "text": [
      "The value of strr in forward direction =  Anil\n",
      "\n",
      "The value of str in backward direction =  Anil\n"
     ]
    }
   ],
   "source": [
    "a=[10, 12.2, 'Anil']\n",
    "print(\"The value of strr in forward direction = \",a[2])\n",
    "print()\n",
    "print(\"The value of str in backward direction = \",a[-1])"
   ]
  },
  {
   "cell_type": "code",
   "execution_count": 14,
   "id": "d3051de4",
   "metadata": {},
   "outputs": [
    {
     "name": "stdout",
     "output_type": "stream",
     "text": [
      "(10, 20, 30, 40, 50, 60, 70, 80, 90)\n"
     ]
    }
   ],
   "source": [
    "a=10,20,30,40,50,60,70,80,90\n",
    "print(a)"
   ]
  },
  {
   "cell_type": "code",
   "execution_count": 17,
   "id": "fe3dcac8",
   "metadata": {},
   "outputs": [
    {
     "name": "stdout",
     "output_type": "stream",
     "text": [
      "The value of a is =  [10, 20, 30, 40, 50, 60, 70, 80, 90]\n"
     ]
    }
   ],
   "source": [
    "a=[10,20,30,40,50,60,70,80,90]\n",
    "print(\"The value of a is = \",a)"
   ]
  },
  {
   "cell_type": "code",
   "execution_count": 18,
   "id": "5aca8bbf",
   "metadata": {},
   "outputs": [
    {
     "name": "stdout",
     "output_type": "stream",
     "text": [
      "Travelling from 10 to 50 and the logic was =  [10, 20, 30, 40, 50]\n"
     ]
    }
   ],
   "source": [
    "print('Travelling from 10 to 50 and the logic was = ',a[0:5])"
   ]
  },
  {
   "cell_type": "code",
   "execution_count": 19,
   "id": "c29332fb",
   "metadata": {},
   "outputs": [
    {
     "name": "stdout",
     "output_type": "stream",
     "text": [
      "travelling from 40 to 80 and logic was =  [40, 50, 60, 70, 80, 90]\n"
     ]
    }
   ],
   "source": [
    "print('travelling from 40 to 80 and logic was = ',a[3:9])"
   ]
  },
  {
   "cell_type": "code",
   "execution_count": 22,
   "id": "a544080e",
   "metadata": {},
   "outputs": [
    {
     "name": "stdout",
     "output_type": "stream",
     "text": [
      "Travelling from 40 to 80 =  [40, 50, 60, 70, 80]\n"
     ]
    }
   ],
   "source": [
    "print('Travelling from 40 to 80 = ',a[-6:-1])"
   ]
  },
  {
   "cell_type": "code",
   "execution_count": 23,
   "id": "d648dbb9",
   "metadata": {},
   "outputs": [
    {
     "name": "stdout",
     "output_type": "stream",
     "text": [
      "Travelling from 40 to 80 =  [40, 50, 60, 70, 80]\n"
     ]
    }
   ],
   "source": [
    "print('Travelling from 40 to 80 = ',a  [-6:-1])"
   ]
  },
  {
   "cell_type": "code",
   "execution_count": null,
   "id": "6f9855bf",
   "metadata": {},
   "outputs": [],
   "source": []
  }
 ],
 "metadata": {
  "kernelspec": {
   "display_name": "Python 3",
   "language": "python",
   "name": "python3"
  },
  "language_info": {
   "codemirror_mode": {
    "name": "ipython",
    "version": 3
   },
   "file_extension": ".py",
   "mimetype": "text/x-python",
   "name": "python",
   "nbconvert_exporter": "python",
   "pygments_lexer": "ipython3",
   "version": "3.8.8"
  }
 },
 "nbformat": 4,
 "nbformat_minor": 5
}
