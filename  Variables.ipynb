{
 "cells": [
  {
   "cell_type": "markdown",
   "id": "8c7ed132",
   "metadata": {},
   "source": [
    "### Variables"
   ]
  },
  {
   "cell_type": "markdown",
   "id": "859452bd",
   "metadata": {},
   "source": [
    "A name that is used denote something or a value is called a variable. In python variables can be declared and values can be assinged to it follows"
   ]
  },
  {
   "cell_type": "code",
   "execution_count": 1,
   "id": "f86bbf55",
   "metadata": {},
   "outputs": [],
   "source": [
    "## Data types \n",
    "# Interger >> 0 to 9\n",
    "# float  >> Decimal values like 10.5 125.5 10.8 \n",
    "# string "
   ]
  },
  {
   "cell_type": "code",
   "execution_count": 1,
   "id": "379522f8",
   "metadata": {},
   "outputs": [
    {
     "name": "stdout",
     "output_type": "stream",
     "text": [
      "1\n"
     ]
    },
    {
     "data": {
      "text/plain": [
       "int"
      ]
     },
     "execution_count": 1,
     "metadata": {},
     "output_type": "execute_result"
    }
   ],
   "source": [
    "a = 1\n",
    "print(a)\n",
    "type(a)"
   ]
  },
  {
   "cell_type": "code",
   "execution_count": 3,
   "id": "910c8c61",
   "metadata": {},
   "outputs": [
    {
     "name": "stdout",
     "output_type": "stream",
     "text": [
      "12.2\n"
     ]
    },
    {
     "data": {
      "text/plain": [
       "float"
      ]
     },
     "execution_count": 3,
     "metadata": {},
     "output_type": "execute_result"
    }
   ],
   "source": [
    "b = 12.2\n",
    "print(b)\n",
    "type(b)"
   ]
  },
  {
   "cell_type": "code",
   "execution_count": 6,
   "id": "509506f1",
   "metadata": {},
   "outputs": [
    {
     "name": "stdout",
     "output_type": "stream",
     "text": [
      "python\n"
     ]
    },
    {
     "data": {
      "text/plain": [
       "str"
      ]
     },
     "execution_count": 6,
     "metadata": {},
     "output_type": "execute_result"
    }
   ],
   "source": [
    "c = 'python'\n",
    "print(c)\n",
    "type(c)"
   ]
  },
  {
   "cell_type": "code",
   "execution_count": 7,
   "id": "ea1ed586",
   "metadata": {},
   "outputs": [
    {
     "name": "stdout",
     "output_type": "stream",
     "text": [
      "2 5.5 Hey\n"
     ]
    }
   ],
   "source": [
    "x = 2 #no concept of data type in python\n",
    "y = 5.5\n",
    "z = 'Hey'\n",
    "print(x,y,z)"
   ]
  },
  {
   "cell_type": "code",
   "execution_count": 8,
   "id": "0c9d91c0",
   "metadata": {},
   "outputs": [
    {
     "data": {
      "text/plain": [
       "int"
      ]
     },
     "execution_count": 8,
     "metadata": {},
     "output_type": "execute_result"
    }
   ],
   "source": [
    "type(x)"
   ]
  },
  {
   "cell_type": "code",
   "execution_count": 10,
   "id": "016e52b5",
   "metadata": {},
   "outputs": [
    {
     "data": {
      "text/plain": [
       "(int, float, str)"
      ]
     },
     "execution_count": 10,
     "metadata": {},
     "output_type": "execute_result"
    }
   ],
   "source": [
    "#type:return the datatypes of the variable\n",
    "type(x),type(y),type(z)"
   ]
  },
  {
   "cell_type": "code",
   "execution_count": 11,
   "id": "77a7dd97",
   "metadata": {},
   "outputs": [
    {
     "name": "stdout",
     "output_type": "stream",
     "text": [
      "welcome to python\n"
     ]
    }
   ],
   "source": [
    "print('welcome to python') # single code representation"
   ]
  },
  {
   "cell_type": "code",
   "execution_count": 12,
   "id": "f76131ff",
   "metadata": {},
   "outputs": [
    {
     "name": "stdout",
     "output_type": "stream",
     "text": [
      "welcome to python\n"
     ]
    }
   ],
   "source": [
    "print(\"welcome to python\") # double code representation "
   ]
  },
  {
   "cell_type": "code",
   "execution_count": 13,
   "id": "c6c2c38d",
   "metadata": {},
   "outputs": [
    {
     "name": "stdout",
     "output_type": "stream",
     "text": [
      "welcome to python\n"
     ]
    }
   ],
   "source": [
    "print('''welcome to python''') # triple code representation"
   ]
  },
  {
   "cell_type": "markdown",
   "id": "595d3eef",
   "metadata": {},
   "source": [
    "Mulitiple variables can be assigned with the same values "
   ]
  },
  {
   "cell_type": "code",
   "execution_count": 14,
   "id": "dd8820a7",
   "metadata": {},
   "outputs": [
    {
     "name": "stdout",
     "output_type": "stream",
     "text": [
      "10 10 10\n"
     ]
    }
   ],
   "source": [
    "a=b=c=10\n",
    "print(a,b,c)"
   ]
  },
  {
   "cell_type": "code",
   "execution_count": null,
   "id": "44a7c32c",
   "metadata": {},
   "outputs": [],
   "source": [
    "a=b=c=10\n"
   ]
  },
  {
   "cell_type": "code",
   "execution_count": 15,
   "id": "0d3905dc",
   "metadata": {},
   "outputs": [
    {
     "data": {
      "text/plain": [
       "(10, 10, 10)"
      ]
     },
     "execution_count": 15,
     "metadata": {},
     "output_type": "execute_result"
    }
   ],
   "source": [
    "a,b,c"
   ]
  },
  {
   "cell_type": "markdown",
   "id": "05c26e88",
   "metadata": {},
   "source": [
    "## operaters\n"
   ]
  },
  {
   "cell_type": "code",
   "execution_count": null,
   "id": "b28d7102",
   "metadata": {},
   "outputs": [],
   "source": []
  },
  {
   "cell_type": "raw",
   "id": "1c557643",
   "metadata": {},
   "source": [
    "##Arithemetic Operaters "
   ]
  },
  {
   "cell_type": "raw",
   "id": "b13c7262",
   "metadata": {},
   "source": [
    "                                                                       Symbol Task Performed\n",
    "                                                                          +   Addition\n",
    "                                                                          -   subtraction\n",
    "                                                                          /   Division\n",
    "                                                                          %   mod\n",
    "                                                                          *   multiplication\n",
    "                                                                          //  floor division\n",
    "                                                                          **  to the power of "
   ]
  },
  {
   "cell_type": "code",
   "execution_count": 16,
   "id": "73a3275a",
   "metadata": {},
   "outputs": [
    {
     "data": {
      "text/plain": [
       "3"
      ]
     },
     "execution_count": 16,
     "metadata": {},
     "output_type": "execute_result"
    }
   ],
   "source": [
    "1+2 # addition operator"
   ]
  },
  {
   "cell_type": "code",
   "execution_count": 17,
   "id": "76439461",
   "metadata": {},
   "outputs": [
    {
     "data": {
      "text/plain": [
       "1"
      ]
     },
     "execution_count": 17,
     "metadata": {},
     "output_type": "execute_result"
    }
   ],
   "source": [
    "2-1  # subtraction operator"
   ]
  },
  {
   "cell_type": "code",
   "execution_count": 18,
   "id": "1e2d481b",
   "metadata": {},
   "outputs": [
    {
     "data": {
      "text/plain": [
       "0.5"
      ]
     },
     "execution_count": 18,
     "metadata": {},
     "output_type": "execute_result"
    }
   ],
   "source": [
    "1/2 # division operator "
   ]
  },
  {
   "cell_type": "code",
   "execution_count": 19,
   "id": "11a4d7d8",
   "metadata": {},
   "outputs": [
    {
     "data": {
      "text/plain": [
       "1"
      ]
     },
     "execution_count": 19,
     "metadata": {},
     "output_type": "execute_result"
    }
   ],
   "source": [
    "100%3 # mod operator"
   ]
  },
  {
   "cell_type": "markdown",
   "id": "d8b2cb5e",
   "metadata": {},
   "source": [
    "Floor division is nothing but converting the result so obtained to the nearest integer"
   ]
  },
  {
   "cell_type": "code",
   "execution_count": 20,
   "id": "a2673a45",
   "metadata": {},
   "outputs": [
    {
     "data": {
      "text/plain": [
       "3"
      ]
     },
     "execution_count": 20,
     "metadata": {},
     "output_type": "execute_result"
    }
   ],
   "source": [
    "9//3"
   ]
  },
  {
   "cell_type": "code",
   "execution_count": 21,
   "id": "e8b84677",
   "metadata": {},
   "outputs": [
    {
     "data": {
      "text/plain": [
       "1.4"
      ]
     },
     "execution_count": 21,
     "metadata": {},
     "output_type": "execute_result"
    }
   ],
   "source": [
    "2.8/2.0"
   ]
  },
  {
   "cell_type": "raw",
   "id": "f2a420cb",
   "metadata": {},
   "source": [
    "##Relation operaters:Used check condition and theyalways return boolean values "
   ]
  },
  {
   "cell_type": "raw",
   "id": "db682f1f",
   "metadata": {},
   "source": [
    "                                                          Symbol  Taskperformed\n",
    "                                                          ==      True if it is equal\n",
    "                                                          !=      True if not equal to\n",
    "                                                          <       less than\n",
    "                                                          >       greater than \n",
    "                                                          <=      less then or equal to\n",
    "                                                          >=      greater than are or equal to"
   ]
  },
  {
   "cell_type": "code",
   "execution_count": 22,
   "id": "31c5bd5b",
   "metadata": {},
   "outputs": [],
   "source": [
    "# used in condition statements and control statements"
   ]
  },
  {
   "cell_type": "code",
   "execution_count": null,
   "id": "fc053ffb",
   "metadata": {},
   "outputs": [],
   "source": [
    "z=1\n",
    "y=2\n",
    "x=1"
   ]
  },
  {
   "cell_type": "code",
   "execution_count": 36,
   "id": "2b410aa3",
   "metadata": {
    "scrolled": true
   },
   "outputs": [
    {
     "data": {
      "text/plain": [
       "True"
      ]
     },
     "execution_count": 36,
     "metadata": {},
     "output_type": "execute_result"
    }
   ],
   "source": [
    "z==x"
   ]
  },
  {
   "cell_type": "code",
   "execution_count": 43,
   "id": "4d869120",
   "metadata": {
    "scrolled": true
   },
   "outputs": [
    {
     "data": {
      "text/plain": [
       "False"
      ]
     },
     "execution_count": 43,
     "metadata": {},
     "output_type": "execute_result"
    }
   ],
   "source": [
    "z==y"
   ]
  },
  {
   "cell_type": "code",
   "execution_count": 44,
   "id": "72c6ade4",
   "metadata": {},
   "outputs": [
    {
     "data": {
      "text/plain": [
       "True"
      ]
     },
     "execution_count": 44,
     "metadata": {},
     "output_type": "execute_result"
    }
   ],
   "source": [
    "z==x"
   ]
  },
  {
   "cell_type": "code",
   "execution_count": 45,
   "id": "0c109a6c",
   "metadata": {},
   "outputs": [
    {
     "data": {
      "text/plain": [
       "True"
      ]
     },
     "execution_count": 45,
     "metadata": {},
     "output_type": "execute_result"
    }
   ],
   "source": [
    "z  >= 1"
   ]
  },
  {
   "cell_type": "markdown",
   "id": "2a1e4dbc",
   "metadata": {},
   "source": [
    "##Bitwise Operaters will have a clear idea in conditional statements"
   ]
  },
  {
   "cell_type": "code",
   "execution_count": null,
   "id": "512443b2",
   "metadata": {},
   "outputs": [],
   "source": [
    "                                                     Symbol Task performed\n",
    "                                                       &     Logical And\n",
    "    \n",
    "                                                       |     Logical Or\n",
    "                                                       ^     XOR\n",
    "                                                       -     Negative\n",
    "                                                       >>    Right Shift\n",
    "                                                       <<    Left shift"
   ]
  }
 ],
 "metadata": {
  "kernelspec": {
   "display_name": "Python 3",
   "language": "python",
   "name": "python3"
  },
  "language_info": {
   "codemirror_mode": {
    "name": "ipython",
    "version": 3
   },
   "file_extension": ".py",
   "mimetype": "text/x-python",
   "name": "python",
   "nbconvert_exporter": "python",
   "pygments_lexer": "ipython3",
   "version": "3.8.8"
  }
 },
 "nbformat": 4,
 "nbformat_minor": 5
}
