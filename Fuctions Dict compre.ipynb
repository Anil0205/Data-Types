{
 "cells": [
  {
   "cell_type": "code",
   "execution_count": 1,
   "id": "d8b75861",
   "metadata": {},
   "outputs": [
    {
     "name": "stdout",
     "output_type": "stream",
     "text": [
      "1\n",
      "\n",
      "2\n"
     ]
    }
   ],
   "source": [
    "def Anil(x,y):\n",
    "    print(x)\n",
    "    print()\n",
    "    print(y)\n",
    "a=1\n",
    "b=2\n",
    "Anil(a,b)"
   ]
  },
  {
   "cell_type": "code",
   "execution_count": 3,
   "id": "1d88478a",
   "metadata": {},
   "outputs": [
    {
     "name": "stdout",
     "output_type": "stream",
     "text": [
      "python\n",
      "value is = 10\n"
     ]
    }
   ],
   "source": [
    "def fun(a):\n",
    "    print('python')\n",
    "    print('value is =',a)\n",
    "fun(10)"
   ]
  },
  {
   "cell_type": "code",
   "execution_count": 4,
   "id": "37eaae01",
   "metadata": {},
   "outputs": [
    {
     "name": "stdout",
     "output_type": "stream",
     "text": [
      "even\n"
     ]
    }
   ],
   "source": [
    "a=2\n",
    "if a%2==0:\n",
    "    print('even')\n",
    "else:\n",
    "    print('odd')"
   ]
  },
  {
   "cell_type": "code",
   "execution_count": 5,
   "id": "b0ef0336",
   "metadata": {},
   "outputs": [
    {
     "name": "stdout",
     "output_type": "stream",
     "text": [
      "even\n"
     ]
    }
   ],
   "source": [
    "def fun(a):\n",
    "    if a%2==0:\n",
    "        print('even')\n",
    "    else:\n",
    "        print('odd')\n",
    "fun(2)"
   ]
  },
  {
   "cell_type": "code",
   "execution_count": 6,
   "id": "e3021fc0",
   "metadata": {},
   "outputs": [
    {
     "name": "stdout",
     "output_type": "stream",
     "text": [
      "even\n"
     ]
    }
   ],
   "source": [
    "def Fun(a):\n",
    "    if a%2==0:\n",
    "        return \"even\"\n",
    "    else:\n",
    "        return \"odd\"\n",
    "fun(2)"
   ]
  },
  {
   "cell_type": "code",
   "execution_count": 7,
   "id": "fd2dcc4a",
   "metadata": {},
   "outputs": [
    {
     "name": "stdout",
     "output_type": "stream",
     "text": [
      "even\n"
     ]
    }
   ],
   "source": [
    "def fun(a):\n",
    "    if a%2==0:\n",
    "        return 'even'\n",
    "    else:\n",
    "        return 'odd'\n",
    "b=fun(2)\n",
    "print(b)"
   ]
  },
  {
   "cell_type": "code",
   "execution_count": 8,
   "id": "94a13813",
   "metadata": {},
   "outputs": [
    {
     "name": "stdout",
     "output_type": "stream",
     "text": [
      "30\n",
      "200\n"
     ]
    }
   ],
   "source": [
    "def multiply(a,b):\n",
    "    result1=a+b\n",
    "    result2=a*b\n",
    "    return result1,result2\n",
    "sum1,product=multiply(10,20)\n",
    "print(sum1)\n",
    "print(product)"
   ]
  },
  {
   "cell_type": "code",
   "execution_count": null,
   "id": "542a8b3e",
   "metadata": {},
   "outputs": [],
   "source": []
  },
  {
   "cell_type": "code",
   "execution_count": 14,
   "id": "65db11ba",
   "metadata": {},
   "outputs": [
    {
     "name": "stdout",
     "output_type": "stream",
     "text": [
      "1 2 3 4 5 6 7 8 9 10 "
     ]
    }
   ],
   "source": [
    "def fun(x):\n",
    "    for i in x:\n",
    "        print(i,end=\" \")\n",
    "a=[1,2,3,4,5,6,7,8,9,10]\n",
    "fun(a)"
   ]
  },
  {
   "cell_type": "code",
   "execution_count": 15,
   "id": "f079c055",
   "metadata": {},
   "outputs": [
    {
     "name": "stdout",
     "output_type": "stream",
     "text": [
      "2\n",
      "4\n",
      "6\n",
      "8\n",
      "10\n"
     ]
    }
   ],
   "source": [
    "def check(a):\n",
    "    for i in a:\n",
    "        if i%2==0:\n",
    "            print(i)\n",
    "check([1,2,3,4,5,6,7,8,9,10])"
   ]
  },
  {
   "cell_type": "code",
   "execution_count": 17,
   "id": "fe474c82",
   "metadata": {},
   "outputs": [
    {
     "name": "stdout",
     "output_type": "stream",
     "text": [
      "course is  python age is =  50\n"
     ]
    }
   ],
   "source": [
    "def fun1 (age,name):\n",
    "    print('course is ',name,'age is = ',age)\n",
    "age =50\n",
    "name='python'\n",
    "fun1(age,name)"
   ]
  },
  {
   "cell_type": "code",
   "execution_count": 18,
   "id": "7883a5e4",
   "metadata": {},
   "outputs": [],
   "source": [
    "## List Comprehension"
   ]
  },
  {
   "cell_type": "code",
   "execution_count": 19,
   "id": "761afdfb",
   "metadata": {},
   "outputs": [
    {
     "name": "stdout",
     "output_type": "stream",
     "text": [
      "1\n",
      "2\n",
      "3\n",
      "4\n"
     ]
    }
   ],
   "source": [
    "a=[1,2,3,4]\n",
    "for i in a:\n",
    "    print(i)"
   ]
  },
  {
   "cell_type": "code",
   "execution_count": 20,
   "id": "a30baf0e",
   "metadata": {},
   "outputs": [
    {
     "name": "stdout",
     "output_type": "stream",
     "text": [
      "[1, 2, 3, 4, 5]\n"
     ]
    }
   ],
   "source": [
    "a=[1,2,3,4,5]\n",
    "b=[i for i in a]\n",
    "print(b)"
   ]
  },
  {
   "cell_type": "code",
   "execution_count": 21,
   "id": "09775591",
   "metadata": {},
   "outputs": [],
   "source": [
    "## Normal technique"
   ]
  },
  {
   "cell_type": "code",
   "execution_count": 22,
   "id": "9d23a702",
   "metadata": {},
   "outputs": [
    {
     "name": "stdout",
     "output_type": "stream",
     "text": [
      "[1, 8, 27, 64]\n"
     ]
    }
   ],
   "source": [
    "cubes=[]\n",
    "for i in range(1,5):\n",
    "    cubes.append(i**3)\n",
    "print(cubes)"
   ]
  },
  {
   "cell_type": "code",
   "execution_count": 23,
   "id": "fe3bd749",
   "metadata": {},
   "outputs": [],
   "source": [
    "## fuction"
   ]
  },
  {
   "cell_type": "code",
   "execution_count": 24,
   "id": "9aaef3e2",
   "metadata": {},
   "outputs": [
    {
     "name": "stdout",
     "output_type": "stream",
     "text": [
      "[1, 8, 27, 64]\n"
     ]
    }
   ],
   "source": [
    "def fun():\n",
    "    cubes=[]\n",
    "    for i in range(1,5):\n",
    "        cubes.append(i**3)\n",
    "    return cubes\n",
    "sol=fun()\n",
    "print(sol)\n"
   ]
  },
  {
   "cell_type": "code",
   "execution_count": 25,
   "id": "79227e6b",
   "metadata": {},
   "outputs": [],
   "source": [
    "## List comprehensionn"
   ]
  },
  {
   "cell_type": "code",
   "execution_count": 26,
   "id": "a24d004d",
   "metadata": {},
   "outputs": [
    {
     "name": "stdout",
     "output_type": "stream",
     "text": [
      "[1, 8, 27, 64]\n"
     ]
    }
   ],
   "source": [
    "sol=[i**3 for i in range(1,5)]\n",
    "print(sol)"
   ]
  },
  {
   "cell_type": "code",
   "execution_count": 27,
   "id": "22e12f36",
   "metadata": {},
   "outputs": [],
   "source": [
    "## Finding even values"
   ]
  },
  {
   "cell_type": "code",
   "execution_count": 29,
   "id": "62bc247b",
   "metadata": {},
   "outputs": [
    {
     "name": "stdout",
     "output_type": "stream",
     "text": [
      "[2, 4, 6, 8, 10]\n"
     ]
    }
   ],
   "source": [
    "sol=[i for i in range(1,11)if i%2==0]\n",
    "print(sol)"
   ]
  },
  {
   "cell_type": "code",
   "execution_count": 30,
   "id": "42be0374",
   "metadata": {},
   "outputs": [
    {
     "name": "stdout",
     "output_type": "stream",
     "text": [
      "[1, 4, 27, 16]\n"
     ]
    }
   ],
   "source": [
    "sol=[i**2 if i%2==0 else i**3 for i in range(1,5)]\n",
    "print(sol)"
   ]
  },
  {
   "cell_type": "code",
   "execution_count": 31,
   "id": "c3ebc89a",
   "metadata": {},
   "outputs": [
    {
     "name": "stdout",
     "output_type": "stream",
     "text": [
      "[4, 16]\n",
      "[1, 27]\n"
     ]
    }
   ],
   "source": [
    "even=[]\n",
    "odd=[]\n",
    "for i in range(1,5):\n",
    "    if i%2==0:\n",
    "        even.append(i**2)\n",
    "    else:\n",
    "        odd.append(i**3)\n",
    "print(even)\n",
    "print(odd)"
   ]
  },
  {
   "cell_type": "code",
   "execution_count": 33,
   "id": "a75e9e6b",
   "metadata": {},
   "outputs": [
    {
     "name": "stdout",
     "output_type": "stream",
     "text": [
      "[4, 16]\n",
      "[1, 27]\n"
     ]
    }
   ],
   "source": [
    "even=[]\n",
    "odd=[]\n",
    "for i in range(1,5):\n",
    "    if i%2==0:\n",
    "        even.append(i**2)\n",
    "    else:\n",
    "        odd.append(i**3)\n",
    "print(even)\n",
    "print(odd)"
   ]
  },
  {
   "cell_type": "code",
   "execution_count": 34,
   "id": "2f48e522",
   "metadata": {},
   "outputs": [],
   "source": [
    "####--> Dictionay Comprehension"
   ]
  },
  {
   "cell_type": "code",
   "execution_count": 35,
   "id": "df3e1b46",
   "metadata": {},
   "outputs": [
    {
     "data": {
      "text/plain": [
       "{'name': 'python', 'age': 22}"
      ]
     },
     "execution_count": 35,
     "metadata": {},
     "output_type": "execute_result"
    }
   ],
   "source": [
    "a={'name':'python','age':22}\n",
    "a"
   ]
  },
  {
   "cell_type": "code",
   "execution_count": 38,
   "id": "fd0008ca",
   "metadata": {},
   "outputs": [
    {
     "name": "stdout",
     "output_type": "stream",
     "text": [
      "{'fruit': 'apple'}\n"
     ]
    }
   ],
   "source": [
    "a={ }\n",
    "a['fruit']='apple'\n",
    "print(a)"
   ]
  },
  {
   "cell_type": "code",
   "execution_count": 50,
   "id": "bb34377d",
   "metadata": {},
   "outputs": [
    {
     "name": "stdout",
     "output_type": "stream",
     "text": [
      "{1: 1}\n",
      "{1: 1, 2: 8}\n",
      "{1: 1, 2: 8, 3: 27}\n",
      "{1: 1, 2: 8, 3: 27, 4: 64}\n"
     ]
    }
   ],
   "source": [
    "a = { }\n",
    "for i in range(1,5):\n",
    "    a[i] = i**3\n",
    "    print(a)"
   ]
  },
  {
   "cell_type": "code",
   "execution_count": 51,
   "id": "41e66e96",
   "metadata": {},
   "outputs": [
    {
     "name": "stdout",
     "output_type": "stream",
     "text": [
      "{1: 1, 2: 8, 3: 27, 4: 64}\n"
     ]
    }
   ],
   "source": [
    "a={ }\n",
    "for i in range(1,5):\n",
    "    a[i]=i**3\n",
    "print(a)"
   ]
  },
  {
   "cell_type": "code",
   "execution_count": 52,
   "id": "3d63801a",
   "metadata": {},
   "outputs": [],
   "source": [
    "## With Dictionary"
   ]
  },
  {
   "cell_type": "code",
   "execution_count": 53,
   "id": "a85bacd9",
   "metadata": {},
   "outputs": [
    {
     "name": "stdout",
     "output_type": "stream",
     "text": [
      "{1: 1, 2: 8, 3: 27, 4: 64}\n"
     ]
    }
   ],
   "source": [
    "a={i:i**3 for i in range(1,5)}\n",
    "print(a)"
   ]
  },
  {
   "cell_type": "code",
   "execution_count": 54,
   "id": "3ed2e861",
   "metadata": {},
   "outputs": [
    {
     "name": "stdout",
     "output_type": "stream",
     "text": [
      "mango 40\n",
      "banaa 20\n"
     ]
    }
   ],
   "source": [
    "fruits={'mango':40,'banaa':20}\n",
    "for i,j in fruits.items():\n",
    "    print(i,j)"
   ]
  },
  {
   "cell_type": "code",
   "execution_count": 62,
   "id": "ebadb1b3",
   "metadata": {},
   "outputs": [
    {
     "ename": "AttributeError",
     "evalue": "'dict' object has no attribute 'item'",
     "output_type": "error",
     "traceback": [
      "\u001b[1;31m---------------------------------------------------------------------------\u001b[0m",
      "\u001b[1;31mAttributeError\u001b[0m                            Traceback (most recent call last)",
      "\u001b[1;32m<ipython-input-62-cacca00e282c>\u001b[0m in \u001b[0;36m<module>\u001b[1;34m\u001b[0m\n\u001b[0;32m      1\u001b[0m \u001b[0mfruits\u001b[0m\u001b[1;33m=\u001b[0m\u001b[1;33m{\u001b[0m\u001b[1;34m'mango'\u001b[0m\u001b[1;33m:\u001b[0m\u001b[1;36m40\u001b[0m\u001b[1;33m,\u001b[0m\u001b[1;34m'banana'\u001b[0m\u001b[1;33m:\u001b[0m\u001b[1;36m20\u001b[0m\u001b[1;33m}\u001b[0m\u001b[1;33m\u001b[0m\u001b[1;33m\u001b[0m\u001b[0m\n\u001b[1;32m----> 2\u001b[1;33m \u001b[0msol\u001b[0m\u001b[1;33m=\u001b[0m\u001b[1;33m{\u001b[0m\u001b[0mi\u001b[0m\u001b[1;33m:\u001b[0m\u001b[0mj\u001b[0m\u001b[1;33m**\u001b[0m\u001b[1;36m2\u001b[0m \u001b[1;32mfor\u001b[0m \u001b[1;33m(\u001b[0m\u001b[0mi\u001b[0m\u001b[1;33m,\u001b[0m\u001b[0mj\u001b[0m\u001b[1;33m)\u001b[0m \u001b[1;32min\u001b[0m \u001b[0mfruits\u001b[0m\u001b[1;33m.\u001b[0m\u001b[0mitem\u001b[0m\u001b[1;33m(\u001b[0m\u001b[1;33m)\u001b[0m\u001b[1;33m}\u001b[0m\u001b[1;33m\u001b[0m\u001b[1;33m\u001b[0m\u001b[0m\n\u001b[0m\u001b[0;32m      3\u001b[0m \u001b[0mprint\u001b[0m\u001b[1;33m(\u001b[0m\u001b[0msol\u001b[0m\u001b[1;33m)\u001b[0m\u001b[1;33m\u001b[0m\u001b[1;33m\u001b[0m\u001b[0m\n",
      "\u001b[1;31mAttributeError\u001b[0m: 'dict' object has no attribute 'item'"
     ]
    }
   ],
   "source": [
    "fruits={'mango':40,'banana':20}\n",
    "sol={i:j**2 for (i,j) in fruits.item()}\n",
    "print(sol)"
   ]
  },
  {
   "cell_type": "code",
   "execution_count": 58,
   "id": "c5c74807",
   "metadata": {},
   "outputs": [
    {
     "name": "stdout",
     "output_type": "stream",
     "text": [
      "{'mango': 1600, 'banana': 400}\n"
     ]
    }
   ],
   "source": [
    "fruits={'mango':40,'banana':20}\n",
    "sol={i:j**2 for (i,j) in fruits.items()}\n",
    "print(sol)"
   ]
  },
  {
   "cell_type": "code",
   "execution_count": 61,
   "id": "96a9fe13",
   "metadata": {},
   "outputs": [
    {
     "name": "stdout",
     "output_type": "stream",
     "text": [
      "{'mango': 1600, 'banana': 400}\n"
     ]
    }
   ],
   "source": [
    "fruits={'mango':40,'banana':20}\n",
    "sol={i:j**2 for (i,j) in fruits.items()}\n",
    "print(sol)"
   ]
  },
  {
   "cell_type": "code",
   "execution_count": null,
   "id": "0648315b",
   "metadata": {},
   "outputs": [],
   "source": []
  }
 ],
 "metadata": {
  "kernelspec": {
   "display_name": "Python 3",
   "language": "python",
   "name": "python3"
  },
  "language_info": {
   "codemirror_mode": {
    "name": "ipython",
    "version": 3
   },
   "file_extension": ".py",
   "mimetype": "text/x-python",
   "name": "python",
   "nbconvert_exporter": "python",
   "pygments_lexer": "ipython3",
   "version": "3.8.8"
  }
 },
 "nbformat": 4,
 "nbformat_minor": 5
}
